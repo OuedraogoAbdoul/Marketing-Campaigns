{
 "cells": [
  {
   "cell_type": "markdown",
   "metadata": {},
   "source": [
    "\n",
    "<h1><center>Analyzing Marketing Campaign!</center></h1>\n"
   ]
  },
  {
   "cell_type": "markdown",
   "metadata": {},
   "source": [
    "<h2><center>How coupon marketing can help shape your business?</center></h2>\n",
    "\n",
    "Accoring to [wikibuy](https://wikibuy.com/blog/coupon-statistics-4c49b386c833), 90% of consumers use coupons and by 2022, digital coupon redemption will reach $91 billion\n",
    "\n",
    "\n",
    "By studying coupon dataset, we can answers questions such as, **what type of customers are shopping in my business? which coupon delivery method drives more consumers to the bussiness, and how much coupon value to give to customers and maintain profit?**\n",
    "\n",
    "Using IBM dataset, we will help answer those questions"
   ]
  },
  {
   "cell_type": "markdown",
   "metadata": {},
   "source": [
    "<h3><center>Importing the necessary library!</center></h3>"
   ]
  },
  {
   "cell_type": "code",
   "execution_count": 398,
   "metadata": {},
   "outputs": [],
   "source": [
    "import pandas as pd\n",
    "import numpy as np\n",
    "import matplotlib.pyplot as plt\n",
    "import seaborn as sns\n",
    "%matplotlib inline"
   ]
  },
  {
   "cell_type": "markdown",
   "metadata": {},
   "source": [
    "<h3><center>Load the dataset</center></h3>"
   ]
  },
  {
   "cell_type": "code",
   "execution_count": 399,
   "metadata": {},
   "outputs": [],
   "source": [
    "data = pd.read_csv(\"WA_Fn-UseC_-Marketing-Campaign-Plan_-GroceryS.csv\", index_col=\"storeid\")"
   ]
  },
  {
   "cell_type": "code",
   "execution_count": 400,
   "metadata": {},
   "outputs": [
    {
     "name": "stdout",
     "output_type": "stream",
     "text": [
      "Here is the first five rows and colums of the datset\n"
     ]
    },
    {
     "data": {
      "text/html": [
       "<div>\n",
       "<style scoped>\n",
       "    .dataframe tbody tr th:only-of-type {\n",
       "        vertical-align: middle;\n",
       "    }\n",
       "\n",
       "    .dataframe tbody tr th {\n",
       "        vertical-align: top;\n",
       "    }\n",
       "\n",
       "    .dataframe thead th {\n",
       "        text-align: right;\n",
       "    }\n",
       "</style>\n",
       "<table border=\"1\" class=\"dataframe\">\n",
       "  <thead>\n",
       "    <tr style=\"text-align: right;\">\n",
       "      <th></th>\n",
       "      <th>HealthyStore</th>\n",
       "      <th>StoreSize</th>\n",
       "      <th>StoreLayout</th>\n",
       "      <th>customerID</th>\n",
       "      <th>gender</th>\n",
       "      <th>WhoShoppingFor</th>\n",
       "      <th>Vegetarian</th>\n",
       "      <th>ShoppingStyle</th>\n",
       "      <th>CouponUser</th>\n",
       "      <th>week</th>\n",
       "      <th>CouponSequence</th>\n",
       "      <th>CarryOver</th>\n",
       "      <th>CouponValue</th>\n",
       "      <th>AmountSpent</th>\n",
       "    </tr>\n",
       "    <tr>\n",
       "      <th>storeid</th>\n",
       "      <th></th>\n",
       "      <th></th>\n",
       "      <th></th>\n",
       "      <th></th>\n",
       "      <th></th>\n",
       "      <th></th>\n",
       "      <th></th>\n",
       "      <th></th>\n",
       "      <th></th>\n",
       "      <th></th>\n",
       "      <th></th>\n",
       "      <th></th>\n",
       "      <th></th>\n",
       "      <th></th>\n",
       "    </tr>\n",
       "  </thead>\n",
       "  <tbody>\n",
       "    <tr>\n",
       "      <th>1</th>\n",
       "      <td>Regular store</td>\n",
       "      <td>Medium</td>\n",
       "      <td>No emphasis</td>\n",
       "      <td>6193-QDKCN</td>\n",
       "      <td>Male</td>\n",
       "      <td>Self and spouse</td>\n",
       "      <td>No</td>\n",
       "      <td>Often; what's on sale</td>\n",
       "      <td>From newspaper</td>\n",
       "      <td>1</td>\n",
       "      <td>2,4,1,3</td>\n",
       "      <td>0</td>\n",
       "      <td>05 percent</td>\n",
       "      <td>135.24</td>\n",
       "    </tr>\n",
       "    <tr>\n",
       "      <th>1</th>\n",
       "      <td>Regular store</td>\n",
       "      <td>Medium</td>\n",
       "      <td>No emphasis</td>\n",
       "      <td>6193-QDKCN</td>\n",
       "      <td>Male</td>\n",
       "      <td>Self and spouse</td>\n",
       "      <td>No</td>\n",
       "      <td>Often; what's on sale</td>\n",
       "      <td>From newspaper</td>\n",
       "      <td>2</td>\n",
       "      <td>2,4,1,3</td>\n",
       "      <td>2</td>\n",
       "      <td>25 percent</td>\n",
       "      <td>128.65</td>\n",
       "    </tr>\n",
       "    <tr>\n",
       "      <th>1</th>\n",
       "      <td>Regular store</td>\n",
       "      <td>Medium</td>\n",
       "      <td>No emphasis</td>\n",
       "      <td>6193-QDKCN</td>\n",
       "      <td>Male</td>\n",
       "      <td>Self and spouse</td>\n",
       "      <td>No</td>\n",
       "      <td>Often; what's on sale</td>\n",
       "      <td>From newspaper</td>\n",
       "      <td>3</td>\n",
       "      <td>2,4,1,3</td>\n",
       "      <td>4</td>\n",
       "      <td>00 No value</td>\n",
       "      <td>112.86</td>\n",
       "    </tr>\n",
       "    <tr>\n",
       "      <th>1</th>\n",
       "      <td>Regular store</td>\n",
       "      <td>Medium</td>\n",
       "      <td>No emphasis</td>\n",
       "      <td>6193-QDKCN</td>\n",
       "      <td>Male</td>\n",
       "      <td>Self and spouse</td>\n",
       "      <td>No</td>\n",
       "      <td>Often; what's on sale</td>\n",
       "      <td>From newspaper</td>\n",
       "      <td>4</td>\n",
       "      <td>2,4,1,3</td>\n",
       "      <td>1</td>\n",
       "      <td>15 percent</td>\n",
       "      <td>130.14</td>\n",
       "    </tr>\n",
       "    <tr>\n",
       "      <th>1</th>\n",
       "      <td>Regular store</td>\n",
       "      <td>Medium</td>\n",
       "      <td>No emphasis</td>\n",
       "      <td>9245-DEZSB</td>\n",
       "      <td>Male</td>\n",
       "      <td>Self and family</td>\n",
       "      <td>No</td>\n",
       "      <td>Weekly; similar items</td>\n",
       "      <td>From mailings</td>\n",
       "      <td>1</td>\n",
       "      <td>4,3,2,1</td>\n",
       "      <td>0</td>\n",
       "      <td>25 percent</td>\n",
       "      <td>155.61</td>\n",
       "    </tr>\n",
       "  </tbody>\n",
       "</table>\n",
       "</div>"
      ],
      "text/plain": [
       "          HealthyStore StoreSize  StoreLayout  customerID gender  \\\n",
       "storeid                                                            \n",
       "1        Regular store    Medium  No emphasis  6193-QDKCN   Male   \n",
       "1        Regular store    Medium  No emphasis  6193-QDKCN   Male   \n",
       "1        Regular store    Medium  No emphasis  6193-QDKCN   Male   \n",
       "1        Regular store    Medium  No emphasis  6193-QDKCN   Male   \n",
       "1        Regular store    Medium  No emphasis  9245-DEZSB   Male   \n",
       "\n",
       "          WhoShoppingFor Vegetarian          ShoppingStyle      CouponUser  \\\n",
       "storeid                                                                      \n",
       "1        Self and spouse         No  Often; what's on sale  From newspaper   \n",
       "1        Self and spouse         No  Often; what's on sale  From newspaper   \n",
       "1        Self and spouse         No  Often; what's on sale  From newspaper   \n",
       "1        Self and spouse         No  Often; what's on sale  From newspaper   \n",
       "1        Self and family         No  Weekly; similar items   From mailings   \n",
       "\n",
       "         week CouponSequence  CarryOver  CouponValue  AmountSpent  \n",
       "storeid                                                            \n",
       "1           1        2,4,1,3          0   05 percent       135.24  \n",
       "1           2        2,4,1,3          2   25 percent       128.65  \n",
       "1           3        2,4,1,3          4  00 No value       112.86  \n",
       "1           4        2,4,1,3          1   15 percent       130.14  \n",
       "1           1        4,3,2,1          0   25 percent       155.61  "
      ]
     },
     "execution_count": 400,
     "metadata": {},
     "output_type": "execute_result"
    }
   ],
   "source": [
    "print(\"Here is the first five rows and colums of the datset\")\n",
    "data.head()"
   ]
  },
  {
   "cell_type": "code",
   "execution_count": 401,
   "metadata": {},
   "outputs": [
    {
     "name": "stdout",
     "output_type": "stream",
     "text": [
      "The number of rows is 1496 and the number of colums is 14\n"
     ]
    }
   ],
   "source": [
    "print('The number of rows is {} and the number of colums is {}'.format(data.shape[0], data.shape[1]))"
   ]
  },
  {
   "cell_type": "code",
   "execution_count": 402,
   "metadata": {
    "scrolled": true
   },
   "outputs": [
    {
     "data": {
      "text/html": [
       "<div>\n",
       "<style scoped>\n",
       "    .dataframe tbody tr th:only-of-type {\n",
       "        vertical-align: middle;\n",
       "    }\n",
       "\n",
       "    .dataframe tbody tr th {\n",
       "        vertical-align: top;\n",
       "    }\n",
       "\n",
       "    .dataframe thead th {\n",
       "        text-align: right;\n",
       "    }\n",
       "</style>\n",
       "<table border=\"1\" class=\"dataframe\">\n",
       "  <thead>\n",
       "    <tr style=\"text-align: right;\">\n",
       "      <th></th>\n",
       "      <th>week</th>\n",
       "      <th>CarryOver</th>\n",
       "      <th>AmountSpent</th>\n",
       "    </tr>\n",
       "  </thead>\n",
       "  <tbody>\n",
       "    <tr>\n",
       "      <th>count</th>\n",
       "      <td>1496.000000</td>\n",
       "      <td>1496.000000</td>\n",
       "      <td>1496.000000</td>\n",
       "    </tr>\n",
       "    <tr>\n",
       "      <th>mean</th>\n",
       "      <td>2.500000</td>\n",
       "      <td>1.870989</td>\n",
       "      <td>118.494820</td>\n",
       "    </tr>\n",
       "    <tr>\n",
       "      <th>std</th>\n",
       "      <td>1.118408</td>\n",
       "      <td>1.451582</td>\n",
       "      <td>55.197293</td>\n",
       "    </tr>\n",
       "    <tr>\n",
       "      <th>min</th>\n",
       "      <td>1.000000</td>\n",
       "      <td>0.000000</td>\n",
       "      <td>0.000000</td>\n",
       "    </tr>\n",
       "    <tr>\n",
       "      <th>25%</th>\n",
       "      <td>1.750000</td>\n",
       "      <td>0.750000</td>\n",
       "      <td>96.810000</td>\n",
       "    </tr>\n",
       "    <tr>\n",
       "      <th>50%</th>\n",
       "      <td>2.500000</td>\n",
       "      <td>2.000000</td>\n",
       "      <td>118.860000</td>\n",
       "    </tr>\n",
       "    <tr>\n",
       "      <th>75%</th>\n",
       "      <td>3.250000</td>\n",
       "      <td>3.000000</td>\n",
       "      <td>140.955000</td>\n",
       "    </tr>\n",
       "    <tr>\n",
       "      <th>max</th>\n",
       "      <td>4.000000</td>\n",
       "      <td>4.000000</td>\n",
       "      <td>353.760000</td>\n",
       "    </tr>\n",
       "  </tbody>\n",
       "</table>\n",
       "</div>"
      ],
      "text/plain": [
       "              week    CarryOver  AmountSpent\n",
       "count  1496.000000  1496.000000  1496.000000\n",
       "mean      2.500000     1.870989   118.494820\n",
       "std       1.118408     1.451582    55.197293\n",
       "min       1.000000     0.000000     0.000000\n",
       "25%       1.750000     0.750000    96.810000\n",
       "50%       2.500000     2.000000   118.860000\n",
       "75%       3.250000     3.000000   140.955000\n",
       "max       4.000000     4.000000   353.760000"
      ]
     },
     "execution_count": 402,
     "metadata": {},
     "output_type": "execute_result"
    }
   ],
   "source": [
    "data.describe()"
   ]
  },
  {
   "cell_type": "markdown",
   "metadata": {},
   "source": [
    "##### The result above allows us to verify that no data is missing. The total number of element in each row and colums is the same by looking at count. To enuser some of the data is not missing, running isnull() will help detect any missing values"
   ]
  },
  {
   "cell_type": "code",
   "execution_count": 403,
   "metadata": {},
   "outputs": [
    {
     "name": "stdout",
     "output_type": "stream",
     "text": [
      "The number of colums with no missing values are \u001b[1m: AmountSpent, StoreLayout, ShoppingStyle, WhoShoppingFor, week, Vegetarian, CouponValue, CouponSequence, gender, StoreSize, HealthyStore, CarryOver, customerID, CouponUser\n"
     ]
    }
   ],
   "source": [
    "no_missing_cols = set(data.columns[data.isnull().mean() == 0])\n",
    "print(\"The number of colums with no missing values are \\033[1m:\", ', '.join(no_missing_cols))"
   ]
  },
  {
   "cell_type": "markdown",
   "metadata": {},
   "source": [
    "<h3><center>Plot chart and results</center></h3>"
   ]
  },
  {
   "cell_type": "markdown",
   "metadata": {},
   "source": [
    "Using correlation, we can check the relationship between rows and columns in the dataset. in the sample data, we will look into the Pearson correlation. The correlation has a max value of 1 and a min value of -1 in general. if the the value is 1, there is a strong positive correlation. This means that if one variable increases the other increase as well. This applies when the value is -1 but the two values are inversely proportional. \n",
    "\n",
    "Note: The correlation below tells us that there 0.57 correlation between CarryOver and week"
   ]
  },
  {
   "cell_type": "code",
   "execution_count": 404,
   "metadata": {},
   "outputs": [
    {
     "data": {
      "text/html": [
       "<div>\n",
       "<style scoped>\n",
       "    .dataframe tbody tr th:only-of-type {\n",
       "        vertical-align: middle;\n",
       "    }\n",
       "\n",
       "    .dataframe tbody tr th {\n",
       "        vertical-align: top;\n",
       "    }\n",
       "\n",
       "    .dataframe thead th {\n",
       "        text-align: right;\n",
       "    }\n",
       "</style>\n",
       "<table border=\"1\" class=\"dataframe\">\n",
       "  <thead>\n",
       "    <tr style=\"text-align: right;\">\n",
       "      <th></th>\n",
       "      <th>week</th>\n",
       "      <th>CarryOver</th>\n",
       "      <th>AmountSpent</th>\n",
       "    </tr>\n",
       "  </thead>\n",
       "  <tbody>\n",
       "    <tr>\n",
       "      <th>week</th>\n",
       "      <td>1.000000</td>\n",
       "      <td>0.579916</td>\n",
       "      <td>-0.020950</td>\n",
       "    </tr>\n",
       "    <tr>\n",
       "      <th>CarryOver</th>\n",
       "      <td>0.579916</td>\n",
       "      <td>1.000000</td>\n",
       "      <td>-0.054447</td>\n",
       "    </tr>\n",
       "    <tr>\n",
       "      <th>AmountSpent</th>\n",
       "      <td>-0.020950</td>\n",
       "      <td>-0.054447</td>\n",
       "      <td>1.000000</td>\n",
       "    </tr>\n",
       "  </tbody>\n",
       "</table>\n",
       "</div>"
      ],
      "text/plain": [
       "                 week  CarryOver  AmountSpent\n",
       "week         1.000000   0.579916    -0.020950\n",
       "CarryOver    0.579916   1.000000    -0.054447\n",
       "AmountSpent -0.020950  -0.054447     1.000000"
      ]
     },
     "execution_count": 404,
     "metadata": {},
     "output_type": "execute_result"
    }
   ],
   "source": [
    "data_corr = data.corr(method=\"pearson\")\n",
    "data_corr"
   ]
  },
  {
   "cell_type": "markdown",
   "metadata": {},
   "source": [
    "Now, let's use the seaborn heatmap to create a visualization for the correlation. \n",
    "The heatmap displays the same values above but add color that can help when identifying object with high and low correlation"
   ]
  },
  {
   "cell_type": "code",
   "execution_count": 405,
   "metadata": {},
   "outputs": [
    {
     "data": {
      "image/png": "[encoded data removed]",
      "text/plain": [
       "<Figure size 576x360 with 2 Axes>"
      ]
     },
     "metadata": {
      "needs_background": "light"
     },
     "output_type": "display_data"
    }
   ],
   "source": [
    "fig = plt.figure(figsize = (8,5))\n",
    "ax = fig.gca()\n",
    "sns.heatmap(data_corr, annot=True, fmt=\"f\");"
   ]
  },
  {
   "cell_type": "markdown",
   "metadata": {},
   "source": [
    "<h4><center>Visualizing Categorical Data</center></h4>"
   ]
  },
  {
   "cell_type": "markdown",
   "metadata": {},
   "source": [
    "We can use visuals to find out what percentage of the customers of the store is **Vegetarian and non Vegetarian**.\n",
    "Notice below that people that identify as non vegetarian constitute more than 80% of the customers. \n",
    "\n",
    "1. Vegetarian/non Vegetarian\n",
    "    This graph can help us to look into why is the number is low in terms of vegetarian participation in the store. The answer     can be related to several things such as Store location. Is the store located in area where people strongly support? another question that should be look into is the vegetarian products that the store offers meets the locals desire?\n",
    "<br>\n",
    "<br>\n",
    "2. Female/Male\n",
    "    The second graph below shows the Female to Male ratio. The graph shows that there are more Males shoppers than Females shopper. Again Why? This will lead the store owner to investigate the products that are being sold. Do the products match the neighborhood tastes? Should we offer more discount on Females products to attract a diverse customers?"
   ]
  },
  {
   "cell_type": "code",
   "execution_count": 406,
   "metadata": {},
   "outputs": [
    {
     "data": {
      "image/png": "[encoded data removed]",
      "text/plain": [
       "<Figure size 800x800 with 2 Axes>"
      ]
     },
     "metadata": {},
     "output_type": "display_data"
    }
   ],
   "source": [
    "fig=plt.figure(figsize=(10, 10), dpi= 80, facecolor='w', edgecolor='k')\n",
    "plt.subplot(2, 2, 1)\n",
    "vegeterian_ratio = data.Vegetarian.value_counts()\n",
    "(vegeterian_ratio/data.shape[0]).plot(kind=\"barh\");\n",
    "plt.title(\"Vegeterian vs non vegeterian\");\n",
    "\n",
    "plt.subplot(2, 2, 2)\n",
    "genre_ratio = data.gender.value_counts()\n",
    "(genre_ratio/data.shape[0]).plot(kind=\"bar\");\n",
    "plt.title(\"Female vs Male\");"
   ]
  },
  {
   "cell_type": "markdown",
   "metadata": {},
   "source": []
  },
  {
   "cell_type": "code",
   "execution_count": 407,
   "metadata": {},
   "outputs": [
    {
     "data": {
      "image/png": "[encoded data removed]",
      "text/plain": [
       "<Figure size 800x800 with 2 Axes>"
      ]
     },
     "metadata": {},
     "output_type": "display_data"
    }
   ],
   "source": [
    "fig=plt.figure(figsize=(10, 10), dpi= 80, facecolor='w', edgecolor='k')\n",
    "plt.subplot(2, 2, 3)\n",
    "shopping_size = data.WhoShoppingFor.value_counts()\n",
    "(shopping_size/data.shape[0]).plot(kind=\"bar\");\n",
    "plt.title(\"Family Size\");\n",
    "\n",
    "plt.subplot(2, 2, 4)\n",
    "ShoppingStyle = data.ShoppingStyle.value_counts();\n",
    "(ShoppingStyle/data.shape[0]).plot(kind=\"pie\");\n",
    "plt.title(\"Shopping routine\");\n"
   ]
  },
  {
   "cell_type": "code",
   "execution_count": 408,
   "metadata": {},
   "outputs": [
    {
     "data": {
      "image/png": "[encoded data removed]",
      "text/plain": [
       "<Figure size 800x800 with 2 Axes>"
      ]
     },
     "metadata": {},
     "output_type": "display_data"
    }
   ],
   "source": [
    "fig=plt.figure(figsize=(10, 10), dpi= 80, facecolor='w', edgecolor='k')\n",
    "plt.subplot(2, 2, 3)\n",
    "CouponUser = data.CouponUser.value_counts()\n",
    "(CouponUser/data.shape[0]).plot(kind=\"barh\");\n",
    "plt.title(\"Coupon User\");\n",
    "\n",
    "plt.subplot(2, 2, 4)\n",
    "CouponSequence = data.CouponSequence.value_counts()\n",
    "(CouponSequence/data.shape[0]).plot(kind=\"bar\");\n",
    "plt.title(\"Coupon Sequence or combination\");"
   ]
  },
  {
   "cell_type": "code",
   "execution_count": 409,
   "metadata": {},
   "outputs": [
    {
     "data": {
      "image/png": "[encoded data removed]",
      "text/plain": [
       "<Figure size 480x480 with 1 Axes>"
      ]
     },
     "metadata": {},
     "output_type": "display_data"
    }
   ],
   "source": [
    "fig=plt.figure(figsize=(6, 6), dpi= 80, facecolor='w', edgecolor='k')\n",
    "CouponValue = data.CouponValue.value_counts();\n",
    "(CouponValue/data.shape[0]).plot(kind=\"pie\");"
   ]
  },
  {
   "cell_type": "code",
   "execution_count": null,
   "metadata": {},
   "outputs": [],
   "source": []
  },
  {
   "cell_type": "code",
   "execution_count": null,
   "metadata": {},
   "outputs": [],
   "source": []
  }
 ],
 "metadata": {
  "kernelspec": {
   "display_name": "Python 3",
   "language": "python",
   "name": "python3"
  },
  "language_info": {
   "codemirror_mode": {
    "name": "ipython",
    "version": 3
   },
   "file_extension": ".py",
   "mimetype": "text/x-python",
   "name": "python",
   "nbconvert_exporter": "python",
   "pygments_lexer": "ipython3",
   "version": "3.7.1"
  }
 },
 "nbformat": 4,
 "nbformat_minor": 2
}
