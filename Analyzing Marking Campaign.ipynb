{
 "cells": [
  {
   "cell_type": "code",
   "execution_count": null,
   "metadata": {},
   "outputs": [],
   "source": []
  },
  {
   "cell_type": "code",
   "execution_count": 111,
   "metadata": {},
   "outputs": [],
   "source": [
    "import pandas as pd\n",
    "import numpy as np\n",
    "import matplotlib.pyplot as plt\n",
    "%matplotlib inline"
   ]
  },
  {
   "cell_type": "code",
   "execution_count": 112,
   "metadata": {},
   "outputs": [],
   "source": [
    "data = pd.read_csv(\"WA_Fn-UseC_-Marketing-Campaign-Plan_-GroceryS.csv\", index_col=\"storeid\")"
   ]
  },
  {
   "cell_type": "code",
   "execution_count": 113,
   "metadata": {},
   "outputs": [
    {
     "data": {
      "text/html": [
       "<div>\n",
       "<style scoped>\n",
       "    .dataframe tbody tr th:only-of-type {\n",
       "        vertical-align: middle;\n",
       "    }\n",
       "\n",
       "    .dataframe tbody tr th {\n",
       "        vertical-align: top;\n",
       "    }\n",
       "\n",
       "    .dataframe thead th {\n",
       "        text-align: right;\n",
       "    }\n",
       "</style>\n",
       "<table border=\"1\" class=\"dataframe\">\n",
       "  <thead>\n",
       "    <tr style=\"text-align: right;\">\n",
       "      <th></th>\n",
       "      <th>HealthyStore</th>\n",
       "      <th>StoreSize</th>\n",
       "      <th>StoreLayout</th>\n",
       "      <th>customerID</th>\n",
       "      <th>gender</th>\n",
       "      <th>WhoShoppingFor</th>\n",
       "      <th>Vegetarian</th>\n",
       "      <th>ShoppingStyle</th>\n",
       "      <th>CouponUser</th>\n",
       "      <th>week</th>\n",
       "      <th>CouponSequence</th>\n",
       "      <th>CarryOver</th>\n",
       "      <th>CouponValue</th>\n",
       "      <th>AmountSpent</th>\n",
       "    </tr>\n",
       "    <tr>\n",
       "      <th>storeid</th>\n",
       "      <th></th>\n",
       "      <th></th>\n",
       "      <th></th>\n",
       "      <th></th>\n",
       "      <th></th>\n",
       "      <th></th>\n",
       "      <th></th>\n",
       "      <th></th>\n",
       "      <th></th>\n",
       "      <th></th>\n",
       "      <th></th>\n",
       "      <th></th>\n",
       "      <th></th>\n",
       "      <th></th>\n",
       "    </tr>\n",
       "  </thead>\n",
       "  <tbody>\n",
       "    <tr>\n",
       "      <th>1</th>\n",
       "      <td>Regular store</td>\n",
       "      <td>Medium</td>\n",
       "      <td>No emphasis</td>\n",
       "      <td>6193-QDKCN</td>\n",
       "      <td>Male</td>\n",
       "      <td>Self and spouse</td>\n",
       "      <td>No</td>\n",
       "      <td>Often; what's on sale</td>\n",
       "      <td>From newspaper</td>\n",
       "      <td>1</td>\n",
       "      <td>2,4,1,3</td>\n",
       "      <td>0</td>\n",
       "      <td>05 percent</td>\n",
       "      <td>135.24</td>\n",
       "    </tr>\n",
       "    <tr>\n",
       "      <th>1</th>\n",
       "      <td>Regular store</td>\n",
       "      <td>Medium</td>\n",
       "      <td>No emphasis</td>\n",
       "      <td>6193-QDKCN</td>\n",
       "      <td>Male</td>\n",
       "      <td>Self and spouse</td>\n",
       "      <td>No</td>\n",
       "      <td>Often; what's on sale</td>\n",
       "      <td>From newspaper</td>\n",
       "      <td>2</td>\n",
       "      <td>2,4,1,3</td>\n",
       "      <td>2</td>\n",
       "      <td>25 percent</td>\n",
       "      <td>128.65</td>\n",
       "    </tr>\n",
       "    <tr>\n",
       "      <th>1</th>\n",
       "      <td>Regular store</td>\n",
       "      <td>Medium</td>\n",
       "      <td>No emphasis</td>\n",
       "      <td>6193-QDKCN</td>\n",
       "      <td>Male</td>\n",
       "      <td>Self and spouse</td>\n",
       "      <td>No</td>\n",
       "      <td>Often; what's on sale</td>\n",
       "      <td>From newspaper</td>\n",
       "      <td>3</td>\n",
       "      <td>2,4,1,3</td>\n",
       "      <td>4</td>\n",
       "      <td>00 No value</td>\n",
       "      <td>112.86</td>\n",
       "    </tr>\n",
       "    <tr>\n",
       "      <th>1</th>\n",
       "      <td>Regular store</td>\n",
       "      <td>Medium</td>\n",
       "      <td>No emphasis</td>\n",
       "      <td>6193-QDKCN</td>\n",
       "      <td>Male</td>\n",
       "      <td>Self and spouse</td>\n",
       "      <td>No</td>\n",
       "      <td>Often; what's on sale</td>\n",
       "      <td>From newspaper</td>\n",
       "      <td>4</td>\n",
       "      <td>2,4,1,3</td>\n",
       "      <td>1</td>\n",
       "      <td>15 percent</td>\n",
       "      <td>130.14</td>\n",
       "    </tr>\n",
       "    <tr>\n",
       "      <th>1</th>\n",
       "      <td>Regular store</td>\n",
       "      <td>Medium</td>\n",
       "      <td>No emphasis</td>\n",
       "      <td>9245-DEZSB</td>\n",
       "      <td>Male</td>\n",
       "      <td>Self and family</td>\n",
       "      <td>No</td>\n",
       "      <td>Weekly; similar items</td>\n",
       "      <td>From mailings</td>\n",
       "      <td>1</td>\n",
       "      <td>4,3,2,1</td>\n",
       "      <td>0</td>\n",
       "      <td>25 percent</td>\n",
       "      <td>155.61</td>\n",
       "    </tr>\n",
       "  </tbody>\n",
       "</table>\n",
       "</div>"
      ],
      "text/plain": [
       "          HealthyStore StoreSize  StoreLayout  customerID gender  \\\n",
       "storeid                                                            \n",
       "1        Regular store    Medium  No emphasis  6193-QDKCN   Male   \n",
       "1        Regular store    Medium  No emphasis  6193-QDKCN   Male   \n",
       "1        Regular store    Medium  No emphasis  6193-QDKCN   Male   \n",
       "1        Regular store    Medium  No emphasis  6193-QDKCN   Male   \n",
       "1        Regular store    Medium  No emphasis  9245-DEZSB   Male   \n",
       "\n",
       "          WhoShoppingFor Vegetarian          ShoppingStyle      CouponUser  \\\n",
       "storeid                                                                      \n",
       "1        Self and spouse         No  Often; what's on sale  From newspaper   \n",
       "1        Self and spouse         No  Often; what's on sale  From newspaper   \n",
       "1        Self and spouse         No  Often; what's on sale  From newspaper   \n",
       "1        Self and spouse         No  Often; what's on sale  From newspaper   \n",
       "1        Self and family         No  Weekly; similar items   From mailings   \n",
       "\n",
       "         week CouponSequence  CarryOver  CouponValue  AmountSpent  \n",
       "storeid                                                            \n",
       "1           1        2,4,1,3          0   05 percent       135.24  \n",
       "1           2        2,4,1,3          2   25 percent       128.65  \n",
       "1           3        2,4,1,3          4  00 No value       112.86  \n",
       "1           4        2,4,1,3          1   15 percent       130.14  \n",
       "1           1        4,3,2,1          0   25 percent       155.61  "
      ]
     },
     "execution_count": 113,
     "metadata": {},
     "output_type": "execute_result"
    }
   ],
   "source": [
    "data.head()"
   ]
  },
  {
   "cell_type": "code",
   "execution_count": 114,
   "metadata": {},
   "outputs": [],
   "source": [
    "num_rows = data.shape[0]\n",
    "num_cols = data.shape[1]"
   ]
  },
  {
   "cell_type": "code",
   "execution_count": 115,
   "metadata": {},
   "outputs": [
    {
     "data": {
      "text/plain": [
       "(1496, 14)"
      ]
     },
     "execution_count": 115,
     "metadata": {},
     "output_type": "execute_result"
    }
   ],
   "source": [
    "num_rows, num_cols"
   ]
  },
  {
   "cell_type": "code",
   "execution_count": 116,
   "metadata": {},
   "outputs": [
    {
     "data": {
      "text/html": [
       "<div>\n",
       "<style scoped>\n",
       "    .dataframe tbody tr th:only-of-type {\n",
       "        vertical-align: middle;\n",
       "    }\n",
       "\n",
       "    .dataframe tbody tr th {\n",
       "        vertical-align: top;\n",
       "    }\n",
       "\n",
       "    .dataframe thead th {\n",
       "        text-align: right;\n",
       "    }\n",
       "</style>\n",
       "<table border=\"1\" class=\"dataframe\">\n",
       "  <thead>\n",
       "    <tr style=\"text-align: right;\">\n",
       "      <th></th>\n",
       "      <th>week</th>\n",
       "      <th>CarryOver</th>\n",
       "      <th>AmountSpent</th>\n",
       "    </tr>\n",
       "  </thead>\n",
       "  <tbody>\n",
       "    <tr>\n",
       "      <th>count</th>\n",
       "      <td>1496.000000</td>\n",
       "      <td>1496.000000</td>\n",
       "      <td>1496.000000</td>\n",
       "    </tr>\n",
       "    <tr>\n",
       "      <th>mean</th>\n",
       "      <td>2.500000</td>\n",
       "      <td>1.870989</td>\n",
       "      <td>118.494820</td>\n",
       "    </tr>\n",
       "    <tr>\n",
       "      <th>std</th>\n",
       "      <td>1.118408</td>\n",
       "      <td>1.451582</td>\n",
       "      <td>55.197293</td>\n",
       "    </tr>\n",
       "    <tr>\n",
       "      <th>min</th>\n",
       "      <td>1.000000</td>\n",
       "      <td>0.000000</td>\n",
       "      <td>0.000000</td>\n",
       "    </tr>\n",
       "    <tr>\n",
       "      <th>25%</th>\n",
       "      <td>1.750000</td>\n",
       "      <td>0.750000</td>\n",
       "      <td>96.810000</td>\n",
       "    </tr>\n",
       "    <tr>\n",
       "      <th>50%</th>\n",
       "      <td>2.500000</td>\n",
       "      <td>2.000000</td>\n",
       "      <td>118.860000</td>\n",
       "    </tr>\n",
       "    <tr>\n",
       "      <th>75%</th>\n",
       "      <td>3.250000</td>\n",
       "      <td>3.000000</td>\n",
       "      <td>140.955000</td>\n",
       "    </tr>\n",
       "    <tr>\n",
       "      <th>max</th>\n",
       "      <td>4.000000</td>\n",
       "      <td>4.000000</td>\n",
       "      <td>353.760000</td>\n",
       "    </tr>\n",
       "  </tbody>\n",
       "</table>\n",
       "</div>"
      ],
      "text/plain": [
       "              week    CarryOver  AmountSpent\n",
       "count  1496.000000  1496.000000  1496.000000\n",
       "mean      2.500000     1.870989   118.494820\n",
       "std       1.118408     1.451582    55.197293\n",
       "min       1.000000     0.000000     0.000000\n",
       "25%       1.750000     0.750000    96.810000\n",
       "50%       2.500000     2.000000   118.860000\n",
       "75%       3.250000     3.000000   140.955000\n",
       "max       4.000000     4.000000   353.760000"
      ]
     },
     "execution_count": 116,
     "metadata": {},
     "output_type": "execute_result"
    }
   ],
   "source": [
    "data.describe()"
   ]
  },
  {
   "cell_type": "code",
   "execution_count": 117,
   "metadata": {},
   "outputs": [
    {
     "name": "stdout",
     "output_type": "stream",
     "text": [
      "<class 'pandas.core.frame.DataFrame'>\n",
      "Int64Index: 1496 entries, 1 to 60\n",
      "Data columns (total 14 columns):\n",
      "HealthyStore      1496 non-null object\n",
      "StoreSize         1496 non-null object\n",
      "StoreLayout       1496 non-null object\n",
      "customerID        1496 non-null object\n",
      "gender            1496 non-null object\n",
      "WhoShoppingFor    1496 non-null object\n",
      "Vegetarian        1496 non-null object\n",
      "ShoppingStyle     1496 non-null object\n",
      "CouponUser        1496 non-null object\n",
      "week              1496 non-null int64\n",
      "CouponSequence    1496 non-null object\n",
      "CarryOver         1496 non-null int64\n",
      "CouponValue       1496 non-null object\n",
      "AmountSpent       1496 non-null float64\n",
      "dtypes: float64(1), int64(2), object(11)\n",
      "memory usage: 175.3+ KB\n"
     ]
    }
   ],
   "source": [
    "data.info()"
   ]
  },
  {
   "cell_type": "code",
   "execution_count": 118,
   "metadata": {},
   "outputs": [],
   "source": [
    "no_missing_cols = set(data.columns[data.isnull().mean() == 0])"
   ]
  },
  {
   "cell_type": "code",
   "execution_count": 119,
   "metadata": {},
   "outputs": [],
   "source": [
    "cols_missing_greater_0 = set(data.columns[data.isnull().mean() < 100])"
   ]
  },
  {
   "cell_type": "code",
   "execution_count": 207,
   "metadata": {},
   "outputs": [
    {
     "data": {
      "image/png": "[encoded data removed]",
      "text/plain": [
       "<Figure size 432x288 with 2 Axes>"
      ]
     },
     "metadata": {
      "needs_background": "light"
     },
     "output_type": "display_data"
    }
   ],
   "source": [
    "plt.subplot(2, 2, 1)\n",
    "vegeterian_ratio = data.Vegetarian.value_counts()\n",
    "(vegeterian_ratio/data.shape[0]).plot(kind=\"barh\");\n",
    "plt.title(\"Vegeterian vs non vegeterian\")\n",
    "\n",
    "plt.subplot(2, 2, 2)\n",
    "genre_ratio = data.gender.value_counts()\n",
    "(genre_ratio/data.shape[0]).plot(kind=\"bar\");\n",
    "plt.title(\"Female vs Male\");"
   ]
  },
  {
   "cell_type": "code",
   "execution_count": 209,
   "metadata": {},
   "outputs": [
    {
     "data": {
      "image/png": "[encoded data removed]",
      "text/plain": [
       "<Figure size 432x288 with 2 Axes>"
      ]
     },
     "metadata": {
      "needs_background": "light"
     },
     "output_type": "display_data"
    }
   ],
   "source": [
    "plt.subplot(2, 2, 3)\n",
    "shopping_size = data.WhoShoppingFor.value_counts()\n",
    "(shopping_size/data.shape[0]).plot(kind=\"bar\");\n",
    "plt.title(\"Family Size\")\n",
    "\n",
    "plt.subplot(2, 2, 4)\n",
    "ShoppingStyle = data.ShoppingStyle.value_counts()\n",
    "(ShoppingStyle/data.shape[0]).plot(kind=\"pie\");\n",
    "plt.title(\"Shopping routine\");\n"
   ]
  },
  {
   "cell_type": "code",
   "execution_count": 204,
   "metadata": {},
   "outputs": [
    {
     "data": {
      "image/png": "[encoded data removed]",
      "text/plain": [
       "<Figure size 432x288 with 1 Axes>"
      ]
     },
     "metadata": {
      "needs_background": "light"
     },
     "output_type": "display_data"
    }
   ],
   "source": [
    "CouponUser = data.CouponUser.value_counts()\n",
    "(CouponUser/data.shape[0]).plot(kind=\"barh\");\n",
    "plt.title(\"Coupon User\");"
   ]
  },
  {
   "cell_type": "code",
   "execution_count": 205,
   "metadata": {},
   "outputs": [
    {
     "data": {
      "image/png": "[encoded data removed]",
      "text/plain": [
       "<Figure size 432x288 with 1 Axes>"
      ]
     },
     "metadata": {},
     "output_type": "display_data"
    }
   ],
   "source": [
    "CouponValue = data.CouponValue.value_counts()\n",
    "(CouponValue/data.shape[0]).plot(kind=\"pie\");\n",
    "plt.title(\"Coupon Money Value\");"
   ]
  },
  {
   "cell_type": "code",
   "execution_count": 206,
   "metadata": {},
   "outputs": [
    {
     "data": {
      "image/png": "[encoded data removed]",
      "text/plain": [
       "<Figure size 432x288 with 1 Axes>"
      ]
     },
     "metadata": {
      "needs_background": "light"
     },
     "output_type": "display_data"
    }
   ],
   "source": [
    "CouponSequence = data.CouponSequence.value_counts()\n",
    "(CouponSequence/data.shape[0]).plot(kind=\"bar\");\n",
    "plt.title(\"Coupon Sequence or combination\");"
   ]
  },
  {
   "cell_type": "code",
   "execution_count": null,
   "metadata": {},
   "outputs": [],
   "source": []
  },
  {
   "cell_type": "code",
   "execution_count": null,
   "metadata": {},
   "outputs": [],
   "source": []
  }
 ],
 "metadata": {
  "kernelspec": {
   "display_name": "Python 3",
   "language": "python",
   "name": "python3"
  },
  "language_info": {
   "codemirror_mode": {
    "name": "ipython",
    "version": 3
   },
   "file_extension": ".py",
   "mimetype": "text/x-python",
   "name": "python",
   "nbconvert_exporter": "python",
   "pygments_lexer": "ipython3",
   "version": "3.7.1"
  }
 },
 "nbformat": 4,
 "nbformat_minor": 2
}
